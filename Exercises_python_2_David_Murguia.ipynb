{
 "cells": [
  {
   "cell_type": "markdown",
   "id": "6751d753",
   "metadata": {},
   "source": [
    "### 1) Find largest number in a list (parameter) (example: given the list [1,2,35] the largest number is 35)"
   ]
  },
  {
   "cell_type": "code",
   "execution_count": null,
   "id": "ba946c81",
   "metadata": {},
   "outputs": [],
   "source": [
    "def largest(lista):\n",
    "    mayor=0\n",
    "    for i in range(len(lista)):\n",
    "        if lista[i]>mayor:\n",
    "            mayor=lista[i]\n",
    "    return mayor\n",
    "largest([1,2,35,100,90,87,198,87878,91])\n",
    "\n",
    "#Other solution\n",
    "#def large(lista):\n",
    "#    print(max(lista))\n",
    "#    \n",
    "#large([1,2,35,100,90,87,198,45,91])"
   ]
  },
  {
   "cell_type": "markdown",
   "id": "dd98985d",
   "metadata": {},
   "source": [
    "### 2) Check a number is prime number or not (example: if I give \"3\" as parameter, the function must return True, otherwhise, False)"
   ]
  },
  {
   "cell_type": "code",
   "execution_count": null,
   "id": "b3964a25",
   "metadata": {},
   "outputs": [],
   "source": [
    "def primo(x): \n",
    "    i=2 \n",
    "    while x>i:\n",
    "        if x%i==0:\n",
    "            return False\n",
    "        else:\n",
    "            i+=1\n",
    "    return True\n",
    "primo(2)"
   ]
  },
  {
   "cell_type": "markdown",
   "id": "a839c578",
   "metadata": {},
   "source": [
    "### 3) Convert kilometers into miles"
   ]
  },
  {
   "cell_type": "code",
   "execution_count": null,
   "id": "8b52d672",
   "metadata": {},
   "outputs": [],
   "source": [
    "def kim_miles(x):\n",
    "    print(\"The convertion to miles is \"f\"{x*0.621371}\" \" miles\")\n",
    "    \n",
    "kim_miles(10)\n",
    "\n",
    "def kilom_miles(x):return x*0.621371\n",
    "    \n",
    "    \n",
    "kilom_miles(10)"
   ]
  },
  {
   "cell_type": "markdown",
   "id": "2447bfaa",
   "metadata": {},
   "source": [
    "### 4) Sum of all digits in a number (example: 2.11 = 4 ... because its 2 + 1 + 1 = 4)"
   ]
  },
  {
   "cell_type": "code",
   "execution_count": null,
   "id": "79bf358f",
   "metadata": {},
   "outputs": [],
   "source": [
    "def sum_digits(x):  \n",
    "    x=str(x).replace(\".\",\"\")\n",
    "    suma=0\n",
    "    for i in x:\n",
    "        i=float(i)\n",
    "        suma=i+suma\n",
    "    print(suma)\n",
    "    \n",
    "sum_digits(3311918.2223)"
   ]
  },
  {
   "cell_type": "markdown",
   "id": "5398a6ed",
   "metadata": {},
   "source": [
    "### 5) Print the Fibonacci series until a given number"
   ]
  },
  {
   "cell_type": "code",
   "execution_count": null,
   "id": "1ec122d4",
   "metadata": {},
   "outputs": [],
   "source": [
    "def stop_fibonacci(Numeromax):\n",
    "    x=0\n",
    "    y=1\n",
    "    z=0\n",
    "    lista=[x,y]\n",
    "    while z<Numeromax:\n",
    "        z=x+y\n",
    "        if z>=Numeromax:\n",
    "            print(lista)\n",
    "            return\n",
    "        else:\n",
    "            lista.append(z)\n",
    "            x=y\n",
    "            y=z\n",
    "    print(lista)\n",
    "    return\n",
    "stop_fibonacci(87654)"
   ]
  },
  {
   "cell_type": "code",
   "execution_count": null,
   "id": "ba4bbbc2",
   "metadata": {},
   "outputs": [],
   "source": [
    "#def fibonacci (n):\n",
    "#    if n == 0:\n",
    "#        return 0\n",
    "#    elif n == 1:\n",
    "#        return 1\n",
    "#    else:\n",
    "#        return fibonacci (n-1) + fibonacci (n-2)\n",
    "#\n",
    "#print(fibonacci(10))"
   ]
  }
 ],
 "metadata": {
  "kernelspec": {
   "display_name": "Python 3 (ipykernel)",
   "language": "python",
   "name": "python3"
  },
  "language_info": {
   "codemirror_mode": {
    "name": "ipython",
    "version": 3
   },
   "file_extension": ".py",
   "mimetype": "text/x-python",
   "name": "python",
   "nbconvert_exporter": "python",
   "pygments_lexer": "ipython3",
   "version": "3.9.6"
  }
 },
 "nbformat": 4,
 "nbformat_minor": 5
}
