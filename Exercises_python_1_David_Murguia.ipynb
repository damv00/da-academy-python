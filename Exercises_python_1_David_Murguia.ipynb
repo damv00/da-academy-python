{
 "cells": [
  {
   "cell_type": "markdown",
   "id": "3afef2cd",
   "metadata": {},
   "source": [
    "<h1><center>Python Academy - Exercises - 1</center></h1>\n",
    "<h1><center>(David Murguia)</center></h1>"
   ]
  },
  {
   "cell_type": "markdown",
   "id": "e29dc2dc",
   "metadata": {},
   "source": [
    "### Exercise 1\n",
    "\n",
    "Write a function called \"compare_x_y\"  that receives 2 paramters (x,y) and returns 1 if x > y, 0 if x == y, and -1 if x < y\n",
    "\n",
    "#### Topics: Basic Operators, Conditional Executions\n"
   ]
  },
  {
   "cell_type": "code",
   "execution_count": 131,
   "id": "f9e89c37",
   "metadata": {},
   "outputs": [],
   "source": [
    "# Your answer here:\n",
    "def compare_x_y(x,y):\n",
    "    if x>y:\n",
    "        return 1\n",
    "    elif x==y:\n",
    "        return 0\n",
    "    else:\n",
    "        return -1\n",
    "\n",
    "assert compare_x_y(5,4) == 1, \"The function is not working as expected\"\n",
    "assert compare_x_y(4,4) == 0, \"The function is not working as expected\"\n",
    "assert compare_x_y(3,4) == -1, \"The function is not working as expected\"\n"
   ]
  },
  {
   "cell_type": "markdown",
   "id": "c3a55396",
   "metadata": {},
   "source": [
    "### Exercise 2\n",
    "\n",
    "Write a function called \"hypotenuse\" that returns the length of the hypotenuse of a right triangle given the lengths of the two legs as arguments.\n",
    "\n",
    "#### Topics: Basic Operators"
   ]
  },
  {
   "cell_type": "code",
   "execution_count": 264,
   "id": "bfebb113",
   "metadata": {},
   "outputs": [
    {
     "data": {
      "text/plain": [
       "18.439088914585774"
      ]
     },
     "execution_count": 264,
     "metadata": {},
     "output_type": "execute_result"
    }
   ],
   "source": [
    "# Your answer here:\n",
    "def hypotenuse(LengthLeg1,LengthLeg2):\n",
    "    Hyp=((LengthLeg1**2)+(LengthLeg2**2))**(1/2)\n",
    "    return Hyp\n",
    "\n",
    "hypotenuse(12,14)\n",
    "\n",
    "#{:.2f}\".format(hypotenuse(12,14)) == \"18.44\", \"The function is not working as expected\"\n",
    "#assert \"{:.2f}\".format(hypotenuse(45,34)) == \"56.40\", \"The function is not working as expected\"\n",
    "#assert \"{:.2f}\".format(hypotenuse(1,2)) == \"2.24\", \"The function is not working as expected\"\n"
   ]
  },
  {
   "cell_type": "markdown",
   "id": "7aefae51",
   "metadata": {},
   "source": [
    "### Exercise 3\n",
    "\n",
    "Write a function called is_between(x, y, z) that returns True if x ≤ y ≤ z or False otherwise.\n",
    "\n",
    "#### Topics: Basic Operators"
   ]
  },
  {
   "cell_type": "code",
   "execution_count": 135,
   "id": "ba23e86a",
   "metadata": {},
   "outputs": [],
   "source": [
    "# Your answer here:\n",
    "def is_between(x,y,z):\n",
    "    if x<=y<=z:\n",
    "        return bool(1)\n",
    "    else:\n",
    "        return bool(0)\n",
    "\n",
    "is_between(1,2,3)\n",
    "assert is_between(3,4,5) == True, \"The function is not working as expected\"\n",
    "assert is_between(4,6,1) == False, \"The function is not working as expected\"\n",
    "assert is_between(4,4,4) == True, \"The function is not working as expected\""
   ]
  },
  {
   "cell_type": "markdown",
   "id": "7a35269c",
   "metadata": {},
   "source": [
    "### Exercise 4\n",
    "\n",
    "A number, X, is a power of Y if it is divisible by Y and X/Y is a power of Y. \n",
    "\n",
    "Write a function called is_power that takes parameters X and Y and returns True if X is a power of Y.\n",
    "\n",
    "#### Topics: Basic Operators"
   ]
  },
  {
   "cell_type": "code",
   "execution_count": 143,
   "id": "6f9929d1",
   "metadata": {},
   "outputs": [
    {
     "data": {
      "text/plain": [
       "False"
      ]
     },
     "execution_count": 143,
     "metadata": {},
     "output_type": "execute_result"
    }
   ],
   "source": [
    "# Your answer here:\n",
    "def is_power(X,Y):\n",
    "    if X%Y==0 and (X/Y)%Y==0:\n",
    "        return True\n",
    "    else:\n",
    "        return False\n",
    "is_power(12,4)\n",
    "\n",
    "#assert is_power(64,4) == True, \"The function is not working as expected\"\n",
    "#assert is_power(6,2) == False, \"The function is not working as expected\"\n",
    "#assert is_power(1296,6) == True, \"The function is not working as expected\""
   ]
  },
  {
   "cell_type": "markdown",
   "id": "1d4275f4",
   "metadata": {},
   "source": [
    "### Exercise 5\n",
    "\n",
    "Write a function called \"greatest_common_divisor\" that takes parameters a and b and returns their greatest common divisor.\n",
    "\n",
    "#### Topics: Basic Operators"
   ]
  },
  {
   "cell_type": "code",
   "execution_count": 260,
   "id": "3af5d687",
   "metadata": {},
   "outputs": [
    {
     "data": {
      "text/plain": [
       "4"
      ]
     },
     "execution_count": 260,
     "metadata": {},
     "output_type": "execute_result"
    }
   ],
   "source": [
    "# Your answer here:\n",
    "def greatest_common_divisor(a,b):\n",
    "    if(b==0):\n",
    "        return a\n",
    "    else:\n",
    "       return greatest_common_divisor(b,a%b)\n",
    "greatest_common_divisor(16,4)"
   ]
  },
  {
   "cell_type": "markdown",
   "id": "289e5952",
   "metadata": {},
   "source": [
    "### Exercise 6\n",
    "Write a function called \"print_backward\" that takes a string as an argument and displays the letters backward, one per line.\n",
    "\n",
    "#### Topics: Loops, Slices, String methods"
   ]
  },
  {
   "cell_type": "code",
   "execution_count": 375,
   "id": "8f4184e0",
   "metadata": {},
   "outputs": [
    {
     "name": "stdout",
     "output_type": "stream",
     "text": [
      "a\n",
      "l\n",
      "o\n",
      "H\n"
     ]
    }
   ],
   "source": [
    "# Your answer here:\n",
    "def print_backward(arg):\n",
    "    arg=list(arg)\n",
    "    back_arg=arg[::-1]\n",
    "    for i in back_arg:\n",
    "        print(i)        \n",
    "print_backward(\"Hola\")"
   ]
  },
  {
   "cell_type": "markdown",
   "id": "bed56cb9",
   "metadata": {},
   "source": [
    "### Exercise 7\n",
    "\n",
    "Write a function called \"is_palindrome\" that takes a string argument and returns \"True\" if it is a palindrome and False otherwise. \n",
    "\n",
    "Note: String can include blanks spaces\n",
    "\n",
    "#### Topics: Slices, String methods"
   ]
  },
  {
   "cell_type": "code",
   "execution_count": 382,
   "id": "0dbfe2bc",
   "metadata": {},
   "outputs": [],
   "source": [
    "# Your answer here:\n",
    "def is_palindrome(word):\n",
    "    word=word.casefold().replace(\" \", \"\")\n",
    "    backward_word=word[::-1]\n",
    "    if word==backward_word:\n",
    "        return True\n",
    "    else:\n",
    "        return False\n",
    "    \n",
    "is_palindrome(\"KaYAk\")\n",
    "\n",
    "assert is_palindrome(\"A mi loca Colima\") == True, \"The function is not working as expected\"\n",
    "assert is_palindrome(\"roma\") == False, \"The function is not working as expected\"\n",
    "assert is_palindrome(\"madam\") == True, \"The function is not working as expected\"\n",
    "assert is_palindrome(\"Alli ves a Sevilla\") == True, \"The function is not working as expected\""
   ]
  },
  {
   "cell_type": "markdown",
   "id": "906fd2e9",
   "metadata": {},
   "source": [
    "### Exercise 8\n",
    "Write a function named \"avoids\" that promts the user to enter 2 paramters: a \"string\" and a \"string\" of forbidden letters\n",
    "The functions must return True if the word doesn’t use any of the forbidden letters, otherwise, False \n",
    "\n",
    "#### Topics: String methods, Conditioinal execution"
   ]
  },
  {
   "cell_type": "code",
   "execution_count": 320,
   "id": "22d69935",
   "metadata": {},
   "outputs": [
    {
     "name": "stdout",
     "output_type": "stream",
     "text": [
      "Enter a string: Mate\n",
      "Enter a string of forbidden letters: abcdde\n"
     ]
    }
   ],
   "source": [
    "# Your answer here:\n",
    "def avoids(string,forb_string):\n",
    "    string=list(string)\n",
    "    forb_string=list(forb_string)\n",
    "    contador=0\n",
    "    for i in string:\n",
    "        for j in forb_string:\n",
    "            if i==j:\n",
    "                contador+=1\n",
    "            else:\n",
    "                contador+=0\n",
    "    if contador==0:\n",
    "        return True\n",
    "    else:\n",
    "        return False\n",
    "    \n",
    "avoids(input(\"Enter a string: \"),input(\"Enter a string of forbidden letters: \"))\n",
    "\n",
    "assert avoids(\"Jose\",\"zrtp\") == True, \"The function is not working as expected\"\n",
    "assert avoids(\"Maria\", \"abcde\") == False, \"The function is not working as expected\"\n",
    "assert avoids(\"Mate\", \"abcde\") == False, \"The function is not working as expected\"\n",
    "assert avoids(\"Mate\", \"bcd\") == True, \"The function is not working as expected\""
   ]
  },
  {
   "cell_type": "markdown",
   "id": "7199783e",
   "metadata": {},
   "source": [
    "### Exercise 9\n",
    "Write a function called \"letters_sequence\". This functions must returns \"True\" if the letters in a word appear in alphabetical order\n",
    "#### Topics: String methods"
   ]
  },
  {
   "cell_type": "code",
   "execution_count": 364,
   "id": "e01f0dd7",
   "metadata": {},
   "outputs": [
    {
     "name": "stdout",
     "output_type": "stream",
     "text": [
      "Enter any word: a mi loca colima\n"
     ]
    }
   ],
   "source": [
    "# Your answer here:\n",
    "def letters_sequence(words=input(\"Enter any word: \")):\n",
    "    words=words.replace(\" \", \"\")\n",
    "    words=list(words)\n",
    "    cont=0\n",
    "    for i in range(len(words)):\n",
    "        if i+1<len(words):\n",
    "            if words[i]>words[i+1]:\n",
    "                cont=1\n",
    "            else:\n",
    "                cont+=0              \n",
    "        else:\n",
    "            if cont==1:\n",
    "                return False\n",
    "            else:\n",
    "                return True\n",
    "\n",
    "letters_sequence() \n",
    "assert letters_sequence(\"A mi loca Colima\") == False, \"The function is not working as expected\"\n",
    "assert letters_sequence(\"roma\") == False, \"The function is not working as expected\"\n",
    "assert letters_sequence(\"abcde\") == True, \"The function is not working as expected\"\n",
    "assert letters_sequence(\"Alli ves a Sevilla\") == False, \"The function is not working as expected\"\n"
   ]
  },
  {
   "cell_type": "markdown",
   "id": "983da453",
   "metadata": {},
   "source": [
    "### Exercise 10\n",
    "\n",
    "Write a function called \"middle_list\" that takes a list and returns a new list that contains all but the first and last elements.\n",
    "#### Topics: List methods"
   ]
  },
  {
   "cell_type": "code",
   "execution_count": 373,
   "id": "5e08c9b2",
   "metadata": {},
   "outputs": [
    {
     "name": "stdout",
     "output_type": "stream",
     "text": [
      "Enter any list of words: abc\n"
     ]
    }
   ],
   "source": [
    "# Your answer here:\n",
    "def middle_list(lista=input(\"Enter any list of words: \")):\n",
    "    lista=list(lista)\n",
    "    lista=lista[1:(len(lista)-1)]\n",
    "    return lista\n",
    "    \n",
    "middle_list()\n",
    "assert middle_list([\"a\",\"b\",\"c\"]) == [\"b\"], \"The function is not working as expected\"\n",
    "assert middle_list([\"a\",\"b\",\"c\",\"d\"]) == [\"b\",\"c\"], \"The function is not working as expected\"\n",
    "assert middle_list([1,2,3,4,5,6]) == [2,3,4,5], \"The function is not working as expected\""
   ]
  }
 ],
 "metadata": {
  "kernelspec": {
   "display_name": "Python 3 (ipykernel)",
   "language": "python",
   "name": "python3"
  },
  "language_info": {
   "codemirror_mode": {
    "name": "ipython",
    "version": 3
   },
   "file_extension": ".py",
   "mimetype": "text/x-python",
   "name": "python",
   "nbconvert_exporter": "python",
   "pygments_lexer": "ipython3",
   "version": "3.9.6"
  }
 },
 "nbformat": 4,
 "nbformat_minor": 5
}
