{
 "cells": [
  {
   "cell_type": "markdown",
   "id": "2d791992",
   "metadata": {},
   "source": [
    "<h1><center> Exercises 3</center>\n",
    "<h1><center>David Murguia</center>"
   ]
  },
  {
   "cell_type": "markdown",
   "id": "7199783e",
   "metadata": {},
   "source": [
    "### Exercise\n",
    "Write a function called \"letters_sequence\". This functions must returns \"True\" if the letters in a word appear in alphabetical order\n",
    "#### Topics: String methods"
   ]
  },
  {
   "cell_type": "code",
   "execution_count": 30,
   "id": "e01f0dd7",
   "metadata": {},
   "outputs": [
    {
     "name": "stdout",
     "output_type": "stream",
     "text": [
      "Enter any word: abcd\n"
     ]
    },
    {
     "data": {
      "text/plain": [
       "True"
      ]
     },
     "execution_count": 30,
     "metadata": {},
     "output_type": "execute_result"
    }
   ],
   "source": [
    "# Your answer here:\n",
    "def letters_sequence(words=input(\"Enter any word: \")):\n",
    "    words=words.replace(\" \", \"\")\n",
    "    words=list(words)\n",
    "    cont=0\n",
    "    for i in range(len(words)):\n",
    "        if i+1<len(words):\n",
    "            if words[i]>words[i+1]:\n",
    "                cont=1\n",
    "            else:\n",
    "                cont+=0              \n",
    "        else:\n",
    "            if cont==1:\n",
    "                return False\n",
    "            else:\n",
    "                return True\n",
    "\n",
    "letters_sequence() "
   ]
  },
  {
   "cell_type": "markdown",
   "id": "983da453",
   "metadata": {},
   "source": [
    "### Exercise\n",
    "\n",
    "Write a function called \"middle_list\" that takes a list and returns a new list that contains all but the first and last elements.\n",
    "#### Topics: List methods"
   ]
  },
  {
   "cell_type": "code",
   "execution_count": 31,
   "id": "5e08c9b2",
   "metadata": {},
   "outputs": [
    {
     "name": "stdout",
     "output_type": "stream",
     "text": [
      "Enter any list of words: hola como estas\n"
     ]
    },
    {
     "data": {
      "text/plain": [
       "['o', 'l', 'a', ' ', 'c', 'o', 'm', 'o', ' ', 'e', 's', 't', 'a']"
      ]
     },
     "execution_count": 31,
     "metadata": {},
     "output_type": "execute_result"
    }
   ],
   "source": [
    "# Your answer here:\n",
    "def middle_list(lista=input(\"Enter any list of words: \")):\n",
    "    lista=list(lista)\n",
    "    lista=lista[1:(len(lista)-1)]\n",
    "    return lista\n",
    "    \n",
    "middle_list()"
   ]
  },
  {
   "cell_type": "markdown",
   "id": "349ec8fd",
   "metadata": {},
   "source": [
    "### Exercise\n",
    "Write a function called \"list_is_sorted\" that takes a list as a parameter and returns \"True\" if the list is sorted in ascending order and False otherwise. For example, list_is_sorted([1,2,2]) should return \"True\" and list_is_sorted(['b','a']) should return False.\n",
    "####  Topics: List methods, Conditional Executions"
   ]
  },
  {
   "cell_type": "code",
   "execution_count": 36,
   "id": "21a7e2bf",
   "metadata": {},
   "outputs": [
    {
     "data": {
      "text/plain": [
       "False"
      ]
     },
     "execution_count": 36,
     "metadata": {},
     "output_type": "execute_result"
    }
   ],
   "source": [
    "# Your answer here:\n",
    "def list_is_sorted(x):\n",
    "    cont=0\n",
    "    for i in range(len(x)):\n",
    "        if i+1<len(x):\n",
    "            if x[i]>x[i+1]:\n",
    "                cont=1\n",
    "                return False\n",
    "            else:\n",
    "                cont=0   \n",
    "    if cont==0:\n",
    "        return True\n",
    "            \n",
    "                \n",
    "\n",
    "list_is_sorted([-2,3,1,3,4,18])"
   ]
  },
  {
   "cell_type": "markdown",
   "id": "41168427",
   "metadata": {},
   "source": [
    "### Exercise\n",
    "Write a function called \"remove_list_duplicates\" that takes a list and returns a new list with only the unique elements from the original.\n",
    "\n",
    "####  Topics: List methods, Conditional Executions"
   ]
  },
  {
   "cell_type": "code",
   "execution_count": 38,
   "id": "b75f16bc",
   "metadata": {},
   "outputs": [
    {
     "name": "stdout",
     "output_type": "stream",
     "text": [
      "['hola', 'buenos', 'dias']\n"
     ]
    }
   ],
   "source": [
    "# Your answer here:\n",
    "def remove_list_duplicates(lista):\n",
    "    new_lista=list(set(lista))\n",
    "    print(new_lista)\n",
    "remove_list_duplicates([\"hola\",\"buenos\",\"dias\",\"dias\",\"buenos\"])"
   ]
  }
 ],
 "metadata": {
  "kernelspec": {
   "display_name": "Python 3 (ipykernel)",
   "language": "python",
   "name": "python3"
  },
  "language_info": {
   "codemirror_mode": {
    "name": "ipython",
    "version": 3
   },
   "file_extension": ".py",
   "mimetype": "text/x-python",
   "name": "python",
   "nbconvert_exporter": "python",
   "pygments_lexer": "ipython3",
   "version": "3.9.6"
  }
 },
 "nbformat": 4,
 "nbformat_minor": 5
}
